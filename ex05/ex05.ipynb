{
 "cells": [
  {
   "cell_type": "code",
   "execution_count": 1,
   "metadata": {
    "vscode": {
     "languageId": "r"
    }
   },
   "outputs": [],
   "source": [
    "SEED <- 1506\n",
    "SAMPLE_SIZE <- 1197\n",
    "GEOM_P <- 0.35\n",
    "X <- c() # empty vector for storing the simulated values"
   ]
  },
  {
   "cell_type": "code",
   "execution_count": 2,
   "metadata": {
    "vscode": {
     "languageId": "r"
    }
   },
   "outputs": [],
   "source": [
    "set.seed(SEED)"
   ]
  },
  {
   "cell_type": "code",
   "execution_count": 3,
   "metadata": {
    "vscode": {
     "languageId": "r"
    }
   },
   "outputs": [],
   "source": [
    "# Finds the x simulated for the input u\n",
    "generate_new_x_value <- function(u) {\n",
    "    x <- 0\n",
    "    while (u > pgeom(x, GEOM_P) | u <= pgeom(x - 1, GEOM_P)) {\n",
    "        x <- x + 1\n",
    "    }\n",
    "    return(x)\n",
    "}\n",
    "\n",
    "for (i in 1:SAMPLE_SIZE) {\n",
    "    u <- runif(1)\n",
    "    generated_x <- generate_new_x_value(u)\n",
    "    X <- append(X, generated_x)\n",
    "}"
   ]
  },
  {
   "cell_type": "code",
   "execution_count": 4,
   "metadata": {
    "vscode": {
     "languageId": "r"
    }
   },
   "outputs": [
    {
     "data": {
      "text/html": [
       "0.2452"
      ],
      "text/latex": [
       "0.2452"
      ],
      "text/markdown": [
       "0.2452"
      ],
      "text/plain": [
       "[1] 0.2452"
      ]
     },
     "metadata": {},
     "output_type": "display_data"
    }
   ],
   "source": [
    "mean <- mean(X)\n",
    "standard_deviation <- sd(X)\n",
    "\n",
    "greater_than_mean_dev <- X[X > mean + standard_deviation]\n",
    "greater_than_mean <- X[X > mean]\n",
    "\n",
    "proportion <- length(greater_than_mean_dev) / length(greater_than_mean)\n",
    "round(proportion, 4)"
   ]
  }
 ],
 "metadata": {
  "kernelspec": {
   "display_name": "R",
   "language": "R",
   "name": "ir"
  },
  "language_info": {
   "codemirror_mode": "r",
   "file_extension": ".r",
   "mimetype": "text/x-r-source",
   "name": "R",
   "pygments_lexer": "r",
   "version": "4.3.0"
  },
  "orig_nbformat": 4
 },
 "nbformat": 4,
 "nbformat_minor": 2
}
