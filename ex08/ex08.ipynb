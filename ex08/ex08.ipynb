{
 "cells": [
  {
   "cell_type": "code",
   "execution_count": 1,
   "metadata": {
    "vscode": {
     "languageId": "r"
    }
   },
   "outputs": [],
   "source": [
    "SEED <- 1657\n",
    "SAMPLE_SIZE <- 194\n",
    "CAUCHY_LOCALIZATION <- 3.2\n",
    "CAUCHY_SCALE <- 1.2\n",
    "NORMAL_EXPECTED <- 3.8\n",
    "NORMAL_VARIANCE <- 4"
   ]
  },
  {
   "cell_type": "code",
   "execution_count": 2,
   "metadata": {
    "vscode": {
     "languageId": "r"
    }
   },
   "outputs": [],
   "source": [
    "set.seed(SEED)"
   ]
  },
  {
   "cell_type": "code",
   "execution_count": 36,
   "metadata": {
    "vscode": {
     "languageId": "r"
    }
   },
   "outputs": [],
   "source": [
    "# Calculates and orders cauchy distribution values.\n",
    "cauchy_sample <- rcauchy(SAMPLE_SIZE, CAUCHY_LOCALIZATION, CAUCHY_SCALE)\n",
    "\n",
    "# Calculates values to compare it to\n",
    "prob_quantiles <- seq(1/195, 194/195, by = 1/195)\n",
    "cauchy_quantiles <- quantile(cauchy_sample, probs = prob_quantiles)\n",
    "\n",
    "normal_sample <- rnorm(SAMPLE_SIZE, mean = NORMAL_EXPECTED, sd = sqrt(NORMAL_VARIANCE))\n",
    "normal_quantiles <-quantile(normal_sample, probs = prob_quantiles)"
   ]
  },
  {
   "cell_type": "code",
   "execution_count": 46,
   "metadata": {
    "vscode": {
     "languageId": "r"
    }
   },
   "outputs": [],
   "source": [
    "# Makes graph TODO FIX\n",
    "# plot(sort(cauchy_sample), cauchy_quantiles, type = \"o\", xlab = \"Cauchy Distribution\", ylab = \"Quantiles\")\n",
    "\n"
   ]
  }
 ],
 "metadata": {
  "kernelspec": {
   "display_name": "R",
   "language": "R",
   "name": "ir"
  },
  "language_info": {
   "codemirror_mode": "r",
   "file_extension": ".r",
   "mimetype": "text/x-r-source",
   "name": "R",
   "pygments_lexer": "r",
   "version": "3.6.1"
  },
  "orig_nbformat": 4
 },
 "nbformat": 4,
 "nbformat_minor": 2
}
