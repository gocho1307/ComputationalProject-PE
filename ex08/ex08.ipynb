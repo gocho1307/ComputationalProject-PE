{
 "cells": [
  {
   "cell_type": "code",
   "execution_count": 1,
   "metadata": {
    "vscode": {
     "languageId": "r"
    }
   },
   "outputs": [],
   "source": [
    "SEED <- 1657\n",
    "SAMPLE_SIZE <- 194\n",
    "CAUCHY_LOCALIZATION <- 3.2\n",
    "CAUCHY_SCALE <- 1.2\n",
    "NORMAL_EXPECTED <- 3.8\n",
    "NORMAL_VARIANCE <- 4"
   ]
  },
  {
   "cell_type": "code",
   "execution_count": 2,
   "metadata": {
    "vscode": {
     "languageId": "r"
    }
   },
   "outputs": [],
   "source": [
    "set.seed(SEED)"
   ]
  },
  {
   "cell_type": "code",
   "execution_count": 3,
   "metadata": {
    "vscode": {
     "languageId": "r"
    }
   },
   "outputs": [],
   "source": [
    "# Calculates and orders cauchy distribution values.\n",
    "cauchy_sample <- rcauchy(SAMPLE_SIZE, CAUCHY_LOCALIZATION, CAUCHY_SCALE)\n",
    "\n",
    "# Calculates values to compare it to\n",
    "prob_quantiles <- seq(1 / 195, 194 / 195, by = 1 / 195)\n",
    "cauchy_quantiles <- qcauchy(prob_quantiles, location = CAUCHY_LOCALIZATION, scale = CAUCHY_SCALE)\n",
    "normal_quantiles <- qnorm(prob_quantiles, mean = NORMAL_EXPECTED, sd = sqrt(NORMAL_VARIANCE))\n",
    "\n",
    "# orders cauchy sample\n",
    "sorted_cauchy_sample <- sort(cauchy_sample)"
   ]
  },
  {
   "cell_type": "code",
   "execution_count": 4,
   "metadata": {
    "vscode": {
     "languageId": "r"
    }
   },
   "outputs": [
    {
     "data": {
      "text/html": [
       "<strong>png:</strong> 2"
      ],
      "text/latex": [
       "\\textbf{png:} 2"
      ],
      "text/markdown": [
       "**png:** 2"
      ],
      "text/plain": [
       "png \n",
       "  2 "
      ]
     },
     "metadata": {},
     "output_type": "display_data"
    }
   ],
   "source": [
    "png(file = \"./ex08.png\", width = 200, height = 200, units = \"mm\", res = 500)\n",
    "plot(sorted_cauchy_sample, normal_quantiles, main = \"QQ Plot: Valores Cauchy Gerados (Ordenados) vs Quantis de Probabilidade\",\n",
    "     xlab = \"Valores Cauchy Gerados (Ordenados)\", ylab = \"Quantis de Probabilidade\",\n",
    "     xlim = range(sorted_cauchy_sample), ylim = range(normal_quantiles, cauchy_quantiles))\n",
    "points(sorted_cauchy_sample, cauchy_quantiles, col = \"#f8766d\", pch = 19)\n",
    "points(sorted_cauchy_sample, normal_quantiles, col = \"#00bfc4\", pch = 19)\n",
    "abline(0, 1, col = \"black\", lty = 2)\n",
    "legend(\"topleft\", legend = c(\"Normal\", \"Cauchy\", \"y = x\"),\n",
    "       col = c(\"#00bfc4\", \"#f8766d\", \"black\"), pch = c(19, 19, NA), lty = c(NA, NA, 2))\n",
    "dev.off()\n"
   ]
  }
 ],
 "metadata": {
  "kernelspec": {
   "display_name": "R",
   "language": "R",
   "name": "ir"
  },
  "language_info": {
   "codemirror_mode": "r",
   "file_extension": ".r",
   "mimetype": "text/x-r-source",
   "name": "R",
   "pygments_lexer": "r",
   "version": "4.3.1"
  },
  "orig_nbformat": 4
 },
 "nbformat": 4,
 "nbformat_minor": 2
}
