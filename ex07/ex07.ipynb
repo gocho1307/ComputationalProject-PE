{
 "cells": [
  {
   "cell_type": "code",
   "execution_count": 34,
   "metadata": {
    "vscode": {
     "languageId": "r"
    }
   },
   "outputs": [],
   "source": [
    "SEED <- 1151\n",
    "SAMPLE_COUNT <- 1754\n",
    "SAMPLE_SIZE <- 10\n",
    "QUANTILE_P <- 0.51"
   ]
  },
  {
   "cell_type": "code",
   "execution_count": 35,
   "metadata": {
    "vscode": {
     "languageId": "r"
    }
   },
   "outputs": [],
   "source": [
    "set.seed(SEED)"
   ]
  },
  {
   "cell_type": "code",
   "execution_count": 36,
   "metadata": {
    "vscode": {
     "languageId": "r"
    }
   },
   "outputs": [
    {
     "data": {
      "text/html": [
       "<strong>51%:</strong> 0.0622"
      ],
      "text/latex": [
       "\\textbf{51\\textbackslash{}\\%:} 0.0622"
      ],
      "text/markdown": [
       "**51%:** 0.0622"
      ],
      "text/plain": [
       "   51% \n",
       "0.0622 "
      ]
     },
     "metadata": {},
     "output_type": "display_data"
    }
   ],
   "source": [
    "# Creates samples and sums the square values of each\n",
    "samples <- replicate(SAMPLE_COUNT, rnorm(SAMPLE_SIZE, mean = 0, sd = sqrt(1)))\n",
    "sum_squares <- apply(samples, 2, function(x) sum(x^2))\n",
    "\n",
    "# Calculates quantiles\n",
    "sample_quantile <- quantile(sum_squares, QUANTILE_P, type = 2)\n",
    "theoric_quantile <- qchisq(QUANTILE_P, SAMPLE_SIZE) # 10 degrees of freedom\n",
    "\n",
    "abs_result <- abs(sample_quantile - theoric_quantile)\n",
    "round(abs_result, 4)"
   ]
  }
 ],
 "metadata": {
  "kernelspec": {
   "display_name": "R",
   "language": "R",
   "name": "ir"
  },
  "language_info": {
   "codemirror_mode": "r",
   "file_extension": ".r",
   "mimetype": "text/x-r-source",
   "name": "R",
   "pygments_lexer": "r",
   "version": "4.3.0"
  },
  "orig_nbformat": 4
 },
 "nbformat": 4,
 "nbformat_minor": 2
}
