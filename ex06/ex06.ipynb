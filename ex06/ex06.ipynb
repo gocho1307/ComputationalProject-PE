{
 "cells": [
  {
   "cell_type": "code",
   "execution_count": 15,
   "metadata": {
    "vscode": {
     "languageId": "r"
    }
   },
   "outputs": [],
   "source": [
    "LOWER_BOUND <- 3\n",
    "UPPER_BOUND <- 29\n",
    "DIGIT_1 <- 4\n",
    "DIGIT_2 <- 6"
   ]
  },
  {
   "cell_type": "code",
   "execution_count": 16,
   "metadata": {
    "vscode": {
     "languageId": "r"
    }
   },
   "outputs": [],
   "source": [
    "# Checks if the first digit of x is either 4 or 6\n",
    "first_digit_is_4_or_6 <- function(x) {\n",
    "  first_digit <- as.numeric(substr(x, 1, 1))\n",
    "  first_digit == DIGIT_1 | first_digit == DIGIT_2\n",
    "}"
   ]
  },
  {
   "cell_type": "code",
   "execution_count": 17,
   "metadata": {
    "vscode": {
     "languageId": "r"
    }
   },
   "outputs": [
    {
     "data": {
      "text/html": [
       "0.16385680263867"
      ],
      "text/latex": [
       "0.16385680263867"
      ],
      "text/markdown": [
       "0.16385680263867"
      ],
      "text/plain": [
       "[1] 0.1638568"
      ]
     },
     "metadata": {},
     "output_type": "display_data"
    }
   ],
   "source": [
    "prob_4 <- log10(1 + 1 / DIGIT_1)\n",
    "prob_6 <- log10(1 + 1 / DIGIT_2)\n",
    "prob_4_or_6 <- prob_4 + prob_6 # being 4 and being 6 are mutually exclusive events\n",
    "prob_4_or_6"
   ]
  },
  {
   "cell_type": "code",
   "execution_count": 18,
   "metadata": {
    "vscode": {
     "languageId": "r"
    }
   },
   "outputs": [
    {
     "data": {
      "text/html": [
       "<style>\n",
       ".list-inline {list-style: none; margin:0; padding: 0}\n",
       ".list-inline>li {display: inline-block}\n",
       ".list-inline>li:not(:last-child)::after {content: \"\\00b7\"; padding: 0 .5ex}\n",
       "</style>\n",
       "<ol class=list-inline><li>64</li><li>4096</li><li>65536</li><li>4194304</li><li>67108864</li></ol>\n"
      ],
      "text/latex": [
       "\\begin{enumerate*}\n",
       "\\item 64\n",
       "\\item 4096\n",
       "\\item 65536\n",
       "\\item 4194304\n",
       "\\item 67108864\n",
       "\\end{enumerate*}\n"
      ],
      "text/markdown": [
       "1. 64\n",
       "2. 4096\n",
       "3. 65536\n",
       "4. 4194304\n",
       "5. 67108864\n",
       "\n",
       "\n"
      ],
      "text/plain": [
       "[1]       64     4096    65536  4194304 67108864"
      ]
     },
     "metadata": {},
     "output_type": "display_data"
    }
   ],
   "source": [
    "powers_of_2 <- 2^(LOWER_BOUND:UPPER_BOUND) # creates a vector with all powers of 2 from 2^3 to 2^39\n",
    "powers_of_2_starting_4_or_6 <- powers_of_2[which(first_digit_is_4_or_6(powers_of_2))]\n",
    "powers_of_2_starting_4_or_6"
   ]
  },
  {
   "cell_type": "code",
   "execution_count": 19,
   "metadata": {
    "vscode": {
     "languageId": "r"
    }
   },
   "outputs": [
    {
     "data": {
      "text/html": [
       "0.185185185185185"
      ],
      "text/latex": [
       "0.185185185185185"
      ],
      "text/markdown": [
       "0.185185185185185"
      ],
      "text/plain": [
       "[1] 0.1851852"
      ]
     },
     "metadata": {},
     "output_type": "display_data"
    }
   ],
   "source": [
    "# Fraction of powers of 2 in the range [2^3 to 2^39] whose first digit is 4 or 6\n",
    "frac_4_or_6 <- length(powers_of_2_starting_4_or_6) / length(powers_of_2)\n",
    "frac_4_or_6"
   ]
  },
  {
   "cell_type": "code",
   "execution_count": 20,
   "metadata": {
    "vscode": {
     "languageId": "r"
    }
   },
   "outputs": [
    {
     "data": {
      "text/html": [
       "0.0213"
      ],
      "text/latex": [
       "0.0213"
      ],
      "text/markdown": [
       "0.0213"
      ],
      "text/plain": [
       "[1] 0.0213"
      ]
     },
     "metadata": {},
     "output_type": "display_data"
    }
   ],
   "source": [
    "absolute_deviation <- round(abs(frac_4_or_6 - prob_4_or_6), 4)\n",
    "absolute_deviation"
   ]
  }
 ],
 "metadata": {
  "kernelspec": {
   "display_name": "R",
   "language": "R",
   "name": "ir"
  },
  "language_info": {
   "codemirror_mode": "r",
   "file_extension": ".r",
   "mimetype": "text/x-r-source",
   "name": "R",
   "pygments_lexer": "r",
   "version": "4.3.0"
  },
  "orig_nbformat": 4
 },
 "nbformat": 4,
 "nbformat_minor": 2
}
