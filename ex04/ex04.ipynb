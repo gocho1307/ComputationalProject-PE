{
 "cells": [
  {
   "cell_type": "code",
   "execution_count": 3,
   "metadata": {
    "vscode": {
     "languageId": "r"
    }
   },
   "outputs": [],
   "source": [
    "SEED <- 4629\n",
    "SAMPLE_SIZE <- 1529\n",
    "LAMBDA <- 26.5"
   ]
  },
  {
   "cell_type": "code",
   "execution_count": 4,
   "metadata": {
    "vscode": {
     "languageId": "r"
    }
   },
   "outputs": [
    {
     "data": {
      "text/html": [
       "25.9152542372881"
      ],
      "text/latex": [
       "25.9152542372881"
      ],
      "text/markdown": [
       "25.9152542372881"
      ],
      "text/plain": [
       "[1] 25.91525"
      ]
     },
     "metadata": {},
     "output_type": "display_data"
    }
   ],
   "source": [
    "set.seed(SEED)\n",
    "sample <- rexp(n = SAMPLE_SIZE, rate = LAMBDA)\n",
    "t_value <- sum(sample)\n",
    "subintervals <- seq(0, ceiling(t_value), by = 1)\n",
    "timed_sample <- cumsum(sample)\n",
    "tab_num_occurances <- table(cut(timed_sample, breaks = subintervals))\n",
    "num_occurances <- as.numeric(tab_num_occurances)\n",
    "average <- mean(num_occurances)\n",
    "average"
   ]
  },
  {
   "cell_type": "code",
   "execution_count": 5,
   "metadata": {
    "vscode": {
     "languageId": "r"
    }
   },
   "outputs": [
    {
     "data": {
      "text/html": [
       "0.5847"
      ],
      "text/latex": [
       "0.5847"
      ],
      "text/markdown": [
       "0.5847"
      ],
      "text/plain": [
       "[1] 0.5847"
      ]
     },
     "metadata": {},
     "output_type": "display_data"
    }
   ],
   "source": [
    "theoretical_average = LAMBDA\n",
    "absolute_deviation <- round(abs(average - theoretical_average), 4)\n",
    "absolute_deviation"
   ]
  }
 ],
 "metadata": {
  "kernelspec": {
   "display_name": "R",
   "language": "R",
   "name": "ir"
  },
  "language_info": {
   "codemirror_mode": "r",
   "file_extension": ".r",
   "mimetype": "text/x-r-source",
   "name": "R",
   "pygments_lexer": "r",
   "version": "4.3.0"
  },
  "orig_nbformat": 4
 },
 "nbformat": 4,
 "nbformat_minor": 2
}
