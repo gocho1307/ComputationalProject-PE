{
 "cells": [
  {
   "cell_type": "code",
   "execution_count": 91,
   "metadata": {
    "vscode": {
     "languageId": "r"
    }
   },
   "outputs": [],
   "source": [
    "SEED <- 4629\n",
    "SAMPLE_SIZE <- 1529\n",
    "EXP_LAMBDA <- 26.5"
   ]
  },
  {
   "cell_type": "code",
   "execution_count": 92,
   "metadata": {
    "vscode": {
     "languageId": "r"
    }
   },
   "outputs": [],
   "source": [
    "set.seed(SEED)"
   ]
  },
  {
   "cell_type": "code",
   "execution_count": 93,
   "metadata": {
    "vscode": {
     "languageId": "r"
    }
   },
   "outputs": [],
   "source": [
    "samples <- rexp(n = SAMPLE_SIZE, rate = EXP_LAMBDA)\n",
    "timed_samples <- cumsum(samples)\n",
    "t_value <- ceiling(timed_samples[SAMPLE_SIZE])"
   ]
  },
  {
   "cell_type": "code",
   "execution_count": 94,
   "metadata": {
    "vscode": {
     "languageId": "r"
    }
   },
   "outputs": [
    {
     "data": {
      "text/html": [
       "<style>\n",
       ".list-inline {list-style: none; margin:0; padding: 0}\n",
       ".list-inline>li {display: inline-block}\n",
       ".list-inline>li:not(:last-child)::after {content: \"\\00b7\"; padding: 0 .5ex}\n",
       "</style>\n",
       "<ol class=list-inline><li>23</li><li>22</li><li>26</li><li>26</li><li>29</li><li>22</li><li>23</li><li>23</li><li>36</li><li>34</li><li>32</li><li>22</li><li>32</li><li>31</li><li>24</li><li>35</li><li>26</li><li>25</li><li>30</li><li>23</li><li>20</li><li>25</li><li>26</li><li>28</li><li>28</li><li>30</li><li>23</li><li>23</li><li>26</li><li>36</li><li>27</li><li>29</li><li>17</li><li>19</li><li>19</li><li>22</li><li>31</li><li>25</li><li>26</li><li>12</li><li>21</li><li>26</li><li>25</li><li>31</li><li>24</li><li>31</li><li>26</li><li>17</li><li>33</li><li>23</li><li>20</li><li>38</li><li>31</li><li>20</li><li>23</li><li>29</li><li>24</li><li>26</li><li>25</li></ol>\n"
      ],
      "text/latex": [
       "\\begin{enumerate*}\n",
       "\\item 23\n",
       "\\item 22\n",
       "\\item 26\n",
       "\\item 26\n",
       "\\item 29\n",
       "\\item 22\n",
       "\\item 23\n",
       "\\item 23\n",
       "\\item 36\n",
       "\\item 34\n",
       "\\item 32\n",
       "\\item 22\n",
       "\\item 32\n",
       "\\item 31\n",
       "\\item 24\n",
       "\\item 35\n",
       "\\item 26\n",
       "\\item 25\n",
       "\\item 30\n",
       "\\item 23\n",
       "\\item 20\n",
       "\\item 25\n",
       "\\item 26\n",
       "\\item 28\n",
       "\\item 28\n",
       "\\item 30\n",
       "\\item 23\n",
       "\\item 23\n",
       "\\item 26\n",
       "\\item 36\n",
       "\\item 27\n",
       "\\item 29\n",
       "\\item 17\n",
       "\\item 19\n",
       "\\item 19\n",
       "\\item 22\n",
       "\\item 31\n",
       "\\item 25\n",
       "\\item 26\n",
       "\\item 12\n",
       "\\item 21\n",
       "\\item 26\n",
       "\\item 25\n",
       "\\item 31\n",
       "\\item 24\n",
       "\\item 31\n",
       "\\item 26\n",
       "\\item 17\n",
       "\\item 33\n",
       "\\item 23\n",
       "\\item 20\n",
       "\\item 38\n",
       "\\item 31\n",
       "\\item 20\n",
       "\\item 23\n",
       "\\item 29\n",
       "\\item 24\n",
       "\\item 26\n",
       "\\item 25\n",
       "\\end{enumerate*}\n"
      ],
      "text/markdown": [
       "1. 23\n",
       "2. 22\n",
       "3. 26\n",
       "4. 26\n",
       "5. 29\n",
       "6. 22\n",
       "7. 23\n",
       "8. 23\n",
       "9. 36\n",
       "10. 34\n",
       "11. 32\n",
       "12. 22\n",
       "13. 32\n",
       "14. 31\n",
       "15. 24\n",
       "16. 35\n",
       "17. 26\n",
       "18. 25\n",
       "19. 30\n",
       "20. 23\n",
       "21. 20\n",
       "22. 25\n",
       "23. 26\n",
       "24. 28\n",
       "25. 28\n",
       "26. 30\n",
       "27. 23\n",
       "28. 23\n",
       "29. 26\n",
       "30. 36\n",
       "31. 27\n",
       "32. 29\n",
       "33. 17\n",
       "34. 19\n",
       "35. 19\n",
       "36. 22\n",
       "37. 31\n",
       "38. 25\n",
       "39. 26\n",
       "40. 12\n",
       "41. 21\n",
       "42. 26\n",
       "43. 25\n",
       "44. 31\n",
       "45. 24\n",
       "46. 31\n",
       "47. 26\n",
       "48. 17\n",
       "49. 33\n",
       "50. 23\n",
       "51. 20\n",
       "52. 38\n",
       "53. 31\n",
       "54. 20\n",
       "55. 23\n",
       "56. 29\n",
       "57. 24\n",
       "58. 26\n",
       "59. 25\n",
       "\n",
       "\n"
      ],
      "text/plain": [
       " [1] 23 22 26 26 29 22 23 23 36 34 32 22 32 31 24 35 26 25 30 23 20 25 26 28 28\n",
       "[26] 30 23 23 26 36 27 29 17 19 19 22 31 25 26 12 21 26 25 31 24 31 26 17 33 23\n",
       "[51] 20 38 31 20 23 29 24 26 25"
      ]
     },
     "metadata": {},
     "output_type": "display_data"
    }
   ],
   "source": [
    "# Creates unitary subintervals (length 1)\n",
    "subintervals <- seq(0, t_value, by = 1)\n",
    "# Counts how many samples are on each individual subinterval\n",
    "tab_num_occurances <- table(cut(timed_samples, breaks = subintervals))\n",
    "num_occurances <- as.numeric(tab_num_occurances)\n",
    "num_occurances"
   ]
  },
  {
   "cell_type": "code",
   "execution_count": 95,
   "metadata": {
    "vscode": {
     "languageId": "r"
    }
   },
   "outputs": [
    {
     "data": {
      "text/html": [
       "25.9152542372881"
      ],
      "text/latex": [
       "25.9152542372881"
      ],
      "text/markdown": [
       "25.9152542372881"
      ],
      "text/plain": [
       "[1] 25.91525"
      ]
     },
     "metadata": {},
     "output_type": "display_data"
    }
   ],
   "source": [
    "mean <- mean(num_occurances)\n",
    "mean"
   ]
  },
  {
   "cell_type": "code",
   "execution_count": 96,
   "metadata": {
    "vscode": {
     "languageId": "r"
    }
   },
   "outputs": [
    {
     "data": {
      "text/html": [
       "0.5847"
      ],
      "text/latex": [
       "0.5847"
      ],
      "text/markdown": [
       "0.5847"
      ],
      "text/plain": [
       "[1] 0.5847"
      ]
     },
     "metadata": {},
     "output_type": "display_data"
    }
   ],
   "source": [
    "theoretical_mean <- EXP_LAMBDA\n",
    "absolute_deviation <- abs(mean - theoretical_mean)\n",
    "round(absolute_deviation, 4)"
   ]
  }
 ],
 "metadata": {
  "kernelspec": {
   "display_name": "R",
   "language": "R",
   "name": "ir"
  },
  "language_info": {
   "codemirror_mode": "r",
   "file_extension": ".r",
   "mimetype": "text/x-r-source",
   "name": "R",
   "pygments_lexer": "r",
   "version": "4.3.0"
  },
  "orig_nbformat": 4
 },
 "nbformat": 4,
 "nbformat_minor": 2
}
