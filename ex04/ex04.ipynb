{
 "cells": [
  {
   "cell_type": "code",
   "execution_count": 1,
   "metadata": {
    "vscode": {
     "languageId": "r"
    }
   },
   "outputs": [],
   "source": [
    "SEED <- 4629\n",
    "SAMPLE_SIZE <- 1529\n",
    "EXP_LAMBDA <- 26.5"
   ]
  },
  {
   "cell_type": "code",
   "execution_count": 2,
   "metadata": {
    "vscode": {
     "languageId": "r"
    }
   },
   "outputs": [],
   "source": [
    "set.seed(SEED)"
   ]
  },
  {
   "cell_type": "code",
   "execution_count": 3,
   "metadata": {
    "vscode": {
     "languageId": "r"
    }
   },
   "outputs": [],
   "source": [
    "samples <- rexp(n = SAMPLE_SIZE, rate = EXP_LAMBDA)\n",
    "timed_samples <- cumsum(samples)\n",
    "t_value <- ceiling(timed_samples[SAMPLE_SIZE])"
   ]
  },
  {
   "cell_type": "code",
   "execution_count": 4,
   "metadata": {
    "vscode": {
     "languageId": "r"
    }
   },
   "outputs": [
    {
     "data": {
      "text/plain": [
       "\n",
       "  (0,1]   (1,2]   (2,3]   (3,4]   (4,5]   (5,6]   (6,7]   (7,8]   (8,9]  (9,10] \n",
       "     23      22      26      26      29      22      23      23      36      34 \n",
       "(10,11] (11,12] (12,13] (13,14] (14,15] (15,16] (16,17] (17,18] (18,19] (19,20] \n",
       "     32      22      32      31      24      35      26      25      30      23 \n",
       "(20,21] (21,22] (22,23] (23,24] (24,25] (25,26] (26,27] (27,28] (28,29] (29,30] \n",
       "     20      25      26      28      28      30      23      23      26      36 \n",
       "(30,31] (31,32] (32,33] (33,34] (34,35] (35,36] (36,37] (37,38] (38,39] (39,40] \n",
       "     27      29      17      19      19      22      31      25      26      12 \n",
       "(40,41] (41,42] (42,43] (43,44] (44,45] (45,46] (46,47] (47,48] (48,49] (49,50] \n",
       "     21      26      25      31      24      31      26      17      33      23 \n",
       "(50,51] (51,52] (52,53] (53,54] (54,55] (55,56] (56,57] (57,58] (58,59] \n",
       "     20      38      31      20      23      29      24      26      25 "
      ]
     },
     "metadata": {},
     "output_type": "display_data"
    }
   ],
   "source": [
    "# Creates unitary subintervals (length 1)\n",
    "subintervals <- seq(0, t_value, by = 1)\n",
    "# Counts how many samples are on each individual subinterval\n",
    "tab_num_occurances <- table(cut(timed_samples, breaks = subintervals))\n",
    "tab_num_occurances\n",
    "num_occurances <- as.numeric(tab_num_occurances)"
   ]
  },
  {
   "cell_type": "code",
   "execution_count": 5,
   "metadata": {
    "vscode": {
     "languageId": "r"
    }
   },
   "outputs": [
    {
     "data": {
      "text/html": [
       "25.9152542372881"
      ],
      "text/latex": [
       "25.9152542372881"
      ],
      "text/markdown": [
       "25.9152542372881"
      ],
      "text/plain": [
       "[1] 25.91525"
      ]
     },
     "metadata": {},
     "output_type": "display_data"
    }
   ],
   "source": [
    "mean <- mean(num_occurances)\n",
    "mean"
   ]
  },
  {
   "cell_type": "code",
   "execution_count": 6,
   "metadata": {
    "vscode": {
     "languageId": "r"
    }
   },
   "outputs": [
    {
     "data": {
      "text/html": [
       "0.5847"
      ],
      "text/latex": [
       "0.5847"
      ],
      "text/markdown": [
       "0.5847"
      ],
      "text/plain": [
       "[1] 0.5847"
      ]
     },
     "metadata": {},
     "output_type": "display_data"
    }
   ],
   "source": [
    "theoretical_mean <- EXP_LAMBDA\n",
    "absolute_deviation <- abs(mean - theoretical_mean)\n",
    "round(absolute_deviation, 4)"
   ]
  }
 ],
 "metadata": {
  "kernelspec": {
   "display_name": "R",
   "language": "R",
   "name": "ir"
  },
  "language_info": {
   "codemirror_mode": "r",
   "file_extension": ".r",
   "mimetype": "text/x-r-source",
   "name": "R",
   "pygments_lexer": "r",
   "version": "4.3.0"
  },
  "orig_nbformat": 4
 },
 "nbformat": 4,
 "nbformat_minor": 2
}
